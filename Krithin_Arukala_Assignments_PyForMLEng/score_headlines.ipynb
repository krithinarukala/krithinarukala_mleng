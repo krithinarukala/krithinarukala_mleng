{
 "cells": [
  {
   "cell_type": "markdown",
   "metadata": {},
   "source": [
    "#### Krithin Arukala, Assignment 1, Python for ML eng\n",
    "#### Testing"
   ]
  },
  {
   "cell_type": "code",
   "execution_count": 1,
   "metadata": {},
   "outputs": [
    {
     "name": "stderr",
     "output_type": "stream",
     "text": [
      "/Users/karukalasparsh/Library/Python/3.9/lib/python/site-packages/urllib3/__init__.py:35: NotOpenSSLWarning: urllib3 v2 only supports OpenSSL 1.1.1+, currently the 'ssl' module is compiled with 'LibreSSL 2.8.3'. See: https://github.com/urllib3/urllib3/issues/3020\n",
      "  warnings.warn(\n",
      "2025-07-06 10:11:42.272077: I tensorflow/core/platform/cpu_feature_guard.cc:210] This TensorFlow binary is optimized to use available CPU instructions in performance-critical operations.\n",
      "To enable the following instructions: AVX2 FMA, in other operations, rebuild TensorFlow with the appropriate compiler flags.\n"
     ]
    }
   ],
   "source": [
    "import argparse\n",
    "import joblib\n",
    "import datetime\n",
    "from sentence_transformers import SentenceTransformer\n",
    "import numpy as np"
   ]
  },
  {
   "cell_type": "code",
   "execution_count": 4,
   "metadata": {},
   "outputs": [],
   "source": [
    "clf = joblib.load('svm.joblib')"
   ]
  },
  {
   "cell_type": "code",
   "execution_count": 6,
   "metadata": {},
   "outputs": [],
   "source": [
    "model = SentenceTransformer(\"all-MiniLM-L6-v2\")"
   ]
  },
  {
   "cell_type": "code",
   "execution_count": null,
   "metadata": {},
   "outputs": [],
   "source": [
    "input_file = 'headlines_nyt_2024-12-02.txt'\n",
    "with open(input_file, 'r', encoding='utf-8') as file:\n",
    "    headlines = [line.strip() for line in file.readlines()]"
   ]
  },
  {
   "cell_type": "code",
   "execution_count": null,
   "metadata": {},
   "outputs": [],
   "source": [
    "embeddings = model.encode(headlines)"
   ]
  },
  {
   "cell_type": "code",
   "execution_count": 12,
   "metadata": {},
   "outputs": [
    {
     "name": "stdout",
     "output_type": "stream",
     "text": [
      "embeddings saved to embeddings_nyt_2025_07_06.npy\n"
     ]
    }
   ],
   "source": [
    "embeddings_filename = f\"embeddings_nyt_{datetime.datetime.today().strftime('%Y_%m_%d')}.npy\"\n",
    "np.save(embeddings_filename, embeddings)\n",
    "print(f\"embeddings saved to {embeddings_filename}\")"
   ]
  },
  {
   "cell_type": "code",
   "execution_count": 13,
   "metadata": {},
   "outputs": [],
   "source": [
    "predictions = clf.predict(embeddings)"
   ]
  },
  {
   "cell_type": "code",
   "execution_count": 14,
   "metadata": {},
   "outputs": [],
   "source": [
    "today = datetime.datetime.today().strftime('%Y_%m_%d')\n",
    "source = 'nyt'\n",
    "output_filename = f\"headline_scores_{source}_{today}.txt\""
   ]
  },
  {
   "cell_type": "code",
   "execution_count": 16,
   "metadata": {},
   "outputs": [
    {
     "data": {
      "text/plain": [
       "array(['Neutral', 'Neutral', 'Neutral', 'Neutral', 'Neutral', 'Neutral',\n",
       "       'Neutral', 'Neutral', 'Neutral', 'Neutral', 'Neutral', 'Neutral',\n",
       "       'Optimistic', 'Neutral', 'Neutral', 'Neutral', 'Optimistic',\n",
       "       'Optimistic', 'Optimistic', 'Neutral', 'Optimistic', 'Neutral',\n",
       "       'Neutral', 'Neutral', 'Neutral', 'Neutral', 'Neutral', 'Neutral',\n",
       "       'Neutral', 'Neutral', 'Neutral', 'Neutral', 'Neutral', 'Neutral',\n",
       "       'Neutral', 'Neutral', 'Neutral', 'Neutral', 'Neutral', 'Neutral',\n",
       "       'Optimistic', 'Optimistic', 'Neutral', 'Neutral', 'Neutral',\n",
       "       'Neutral', 'Neutral', 'Neutral', 'Neutral', 'Neutral',\n",
       "       'Optimistic', 'Optimistic', 'Neutral', 'Neutral', 'Neutral',\n",
       "       'Neutral', 'Optimistic', 'Optimistic', 'Neutral', 'Neutral'],\n",
       "      dtype=object)"
      ]
     },
     "execution_count": 16,
     "metadata": {},
     "output_type": "execute_result"
    }
   ],
   "source": [
    "predictions"
   ]
  },
  {
   "cell_type": "code",
   "execution_count": 17,
   "metadata": {},
   "outputs": [
    {
     "name": "stdout",
     "output_type": "stream",
     "text": [
      "saved\n"
     ]
    }
   ],
   "source": [
    "with open(output_filename, 'w', encoding='utf-8') as output_file:\n",
    "    for headline, prediction in zip(headlines, predictions):\n",
    "        output_file.write(f\"{prediction}, {headline}\\n\")\n",
    "print(\"saved\")"
   ]
  },
  {
   "cell_type": "markdown",
   "metadata": {},
   "source": [
    "# Compiled"
   ]
  },
  {
   "cell_type": "code",
   "execution_count": null,
   "metadata": {},
   "outputs": [
    {
     "name": "stderr",
     "output_type": "stream",
     "text": [
      "/Users/karukalasparsh/Library/Python/3.9/lib/python/site-packages/urllib3/__init__.py:35: NotOpenSSLWarning: urllib3 v2 only supports OpenSSL 1.1.1+, currently the 'ssl' module is compiled with 'LibreSSL 2.8.3'. See: https://github.com/urllib3/urllib3/issues/3020\n",
      "  warnings.warn(\n",
      "2025-07-06 10:11:42.272077: I tensorflow/core/platform/cpu_feature_guard.cc:210] This TensorFlow binary is optimized to use available CPU instructions in performance-critical operations.\n",
      "To enable the following instructions: AVX2 FMA, in other operations, rebuild TensorFlow with the appropriate compiler flags.\n"
     ]
    }
   ],
   "source": [
    "import argparse\n",
    "import joblib\n",
    "import datetime\n",
    "from sentence_transformers import SentenceTransformer\n",
    "import numpy as np\n",
    "clf = joblib.load('svm.joblib')\n",
    "model = SentenceTransformer(\"all-MiniLM-L6-v2\")\n",
    "input_file = 'headlines_nyt_2024-12-02.txt'\n",
    "with open(input_file, 'r', encoding='utf-8') as file:\n",
    "    headlines = [line.strip() for line in file.readlines()]\n",
    "embeddings = model.encode(headlines)\n",
    "embeddings_filename = f\"embeddings_nyt_{datetime.datetime.today().strftime('%Y_%m_%d')}.npy\"\n",
    "np.save(embeddings_filename, embeddings)\n",
    "print(f\"embeddings saved to {embeddings_filename}\")\n",
    "predictions = clf.predict(embeddings)\n",
    "today = datetime.datetime.today().strftime('%Y_%m_%d')\n",
    "source = 'nyt'\n",
    "output_filename = f\"headline_scores_{source}_{today}.txt\"\n",
    "predictions\n",
    "with open(output_filename, 'w', encoding='utf-8') as output_file:\n",
    "    for headline, prediction in zip(headlines, predictions):\n",
    "        output_file.write(f\"{prediction}, {headline}\\n\")\n",
    "print(\"saved\")"
   ]
  },
  {
   "cell_type": "code",
   "execution_count": null,
   "metadata": {},
   "outputs": [],
   "source": []
  }
 ],
 "metadata": {
  "kernelspec": {
   "display_name": "Python 3",
   "language": "python",
   "name": "python3"
  },
  "language_info": {
   "codemirror_mode": {
    "name": "ipython",
    "version": 3
   },
   "file_extension": ".py",
   "mimetype": "text/x-python",
   "name": "python",
   "nbconvert_exporter": "python",
   "pygments_lexer": "ipython3",
   "version": "3.9.6"
  }
 },
 "nbformat": 4,
 "nbformat_minor": 2
}
